{
 "cells": [
  {
   "cell_type": "markdown",
   "id": "5030a86c",
   "metadata": {},
   "source": [
    "# Interactive neutrino oscillation probabilities sliders\n",
    "\n",
    "_Authors: Jurjan Bootsma, Bouke Jung, Maarten de Jong_"
   ]
  },
  {
   "cell_type": "markdown",
   "id": "d45f6adf",
   "metadata": {},
   "source": [
    "The following plots show the neutrino oscillation probabilities against the energy and cosine of the zenith angle. The user can choose which neutrino flavour goes in, which neutrino flavour goes out and if these are particles or anti-particles. Then the user can also use sliders to vary the fundamental oscillation parameters and see the shape of the probabilities change."
   ]
  },
  {
   "cell_type": "code",
   "execution_count": 11,
   "id": "f90eeda5",
   "metadata": {},
   "outputs": [
    {
     "name": "stdout",
     "output_type": "stream",
     "text": [
      "jppy version: 3.4.2.dev83+g6f357bb.d20221031\n"
     ]
    }
   ],
   "source": [
    "import os\n",
    "import ipywidgets as iw\n",
    "import matplotlib.pyplot as plt\n",
    "import numpy as np\n",
    "import jppy\n",
    "import matplotlib.colors as colors\n",
    "\n",
    "print(f\"jppy version: {jppy.version}\")"
   ]
  },
  {
   "cell_type": "code",
   "execution_count": 12,
   "id": "1cb7d5ea",
   "metadata": {},
   "outputs": [
    {
     "ename": "RuntimeError",
     "evalue": "/project/antares/jurjanbootsma/software/Jpp/software/JOscProb/JOscProbInterpolator.hh:148\nJOscProbInterpolator::load(): Error reading file /project/antares/jurjanbootsma/software/Jpp/data//JOscProbTable.NO.dat",
     "output_type": "error",
     "traceback": [
      "\u001b[0;31m---------------------------------------------------------------------------\u001b[0m",
      "\u001b[0;31mRuntimeError\u001b[0m                              Traceback (most recent call last)",
      "\u001b[0;32m<ipython-input-12-ad85b220ede2>\u001b[0m in \u001b[0;36m<module>\u001b[0;34m\u001b[0m\n\u001b[1;32m      1\u001b[0m \u001b[0minput_file\u001b[0m \u001b[0;34m=\u001b[0m \u001b[0mos\u001b[0m\u001b[0;34m.\u001b[0m\u001b[0mpath\u001b[0m\u001b[0;34m.\u001b[0m\u001b[0mexpandvars\u001b[0m\u001b[0;34m(\u001b[0m\u001b[0;34m\"$JPP_DATA/JOscProbTable.NO.dat\"\u001b[0m\u001b[0;34m)\u001b[0m\u001b[0;34m\u001b[0m\u001b[0;34m\u001b[0m\u001b[0m\n\u001b[1;32m      2\u001b[0m \u001b[0;34m\u001b[0m\u001b[0m\n\u001b[0;32m----> 3\u001b[0;31m \u001b[0minterpolator\u001b[0m \u001b[0;34m=\u001b[0m \u001b[0mjppy\u001b[0m\u001b[0;34m.\u001b[0m\u001b[0moscprob\u001b[0m\u001b[0;34m.\u001b[0m\u001b[0mJppyOscProbInterpolator\u001b[0m\u001b[0;34m(\u001b[0m\u001b[0minput_file\u001b[0m\u001b[0;34m)\u001b[0m\u001b[0;34m\u001b[0m\u001b[0;34m\u001b[0m\u001b[0m\n\u001b[0m",
      "\u001b[0;31mRuntimeError\u001b[0m: /project/antares/jurjanbootsma/software/Jpp/software/JOscProb/JOscProbInterpolator.hh:148\nJOscProbInterpolator::load(): Error reading file /project/antares/jurjanbootsma/software/Jpp/data//JOscProbTable.NO.dat"
     ]
    }
   ],
   "source": [
    "input_file = os.path.expandvars(\"$JPP_DATA/JOscProbTable.NO.dat\")\n",
    "interpolator = jppy.oscprob.JppyOscProbInterpolator(input_file)"
   ]
  },
  {
   "cell_type": "code",
   "execution_count": 6,
   "id": "3490ab1b",
   "metadata": {},
   "outputs": [
    {
     "data": {
      "application/vnd.jupyter.widget-view+json": {
       "model_id": "3a5d629af193412ebd78699aa1cc04e4",
       "version_major": 2,
       "version_minor": 0
      },
      "text/plain": [
       "interactive(children=(Dropdown(description='Flavour in', index=1, options=(('Electron', 12), ('Muon', 14), ('T…"
      ]
     },
     "metadata": {},
     "output_type": "display_data"
    }
   ],
   "source": [
    "#Plot of oscillation probabilities against the energy\n",
    "\n",
    "num=500\n",
    "\n",
    "Es = np.logspace(0,2,num=num,base=10)\n",
    "\n",
    "opts = dict(continuous_update=False)\n",
    "@iw.interact\n",
    "def show_pdf(flavour_in=iw.Dropdown(options=[(\"Electron\",12),(\"Muon\",14),(\"Tau\",16)],\n",
    "                                    description=\"Flavour in\",value=14),\n",
    "             flavour_out=iw.Dropdown(options=[(\"Electron\",12),(\"Muon\",14),(\"Tau\",16)],\n",
    "                                     description=\"Flavour out\",value=14),\n",
    "             CParity=iw.Dropdown(options=[(\"Particle\",1),(\"Antiparticle\",-1)],\n",
    "                                 description=\"C Parity\"),\n",
    "             zenith_angle=iw.FloatSlider(min=-1,max=0,step=0.01,\n",
    "                                         description=\"$cosθ_{zenith}$\",value=-0.5,**opts),\n",
    "             sinsqTh12=iw.FloatSlider(min=0.27,max=0.34,step=0.01,\n",
    "                                      description=\"$sin^2θ_{12}$\",value=0.304,**opts),\n",
    "             dM21sq=iw.FloatSlider(min=6.93,max=7.95,step=0.01,\n",
    "                                   description=\"$\\Delta m_{21}^2[10^{-5}]$\",value=7.42,**opts),\n",
    "             sinsqTh13=iw.FloatSlider(min=0.021,max=0.024,step=0.001,\n",
    "                                      description=\"$sin^2θ_{13}$\",value=0.02246,readout_format='.3f',**opts),\n",
    "             dM31sq=iw.FloatSlider(min=2.45,max=2.59,step=0.01,\n",
    "                                   description=\"$\\Delta m_{31}^2[10^{-3}]$\",value=2.51, **opts),\n",
    "             sinsqTh23=iw.FloatSlider(min=0.41,max=0.62,step=0.01,\n",
    "                                      description=\"$sin^2θ_{23}$\",value=0.45,**opts),\n",
    "             deltaCP=iw.FloatSlider(min=0,max=2,step=0.01,\n",
    "                                    description=\"$\\delta_{CP} / \\pi$\",value=1.28,**opts)):\n",
    "    \n",
    "    #Convert mass differences to eV^2\n",
    "    dM21sq=dM21sq*10**-5\n",
    "    dM31sq=dM31sq*10**-3\n",
    "    \n",
    "    zenith_angles = np.tile(zenith_angle, num)\n",
    "    \n",
    "    #Set oscillation channel and parameters and perform interpolation\n",
    "    channel = jppy.oscprob.JOscChannel(flavour_in, flavour_out, CParity)\n",
    "    \n",
    "    parameters = jppy.oscprob.JOscParameters(dM21sq, dM31sq, deltaCP, sinsqTh12, sinsqTh13, sinsqTh23)\n",
    "    \n",
    "    probs = interpolator(parameters, channel, Es, zenith_angles)\n",
    "\n",
    "    #The plot\n",
    "    fig, ax = plt.subplots(figsize=(8,4))\n",
    "    ax.plot(Es, probs)\n",
    "    ax.set_xscale('log')\n",
    "    ax.set_ylim(0, 1.05)\n",
    "    plt.grid()\n",
    "    ax.set_xlabel('E [GeV]', fontsize=15)\n",
    "    ax.set_ylabel('Probability', fontsize=15)\n",
    "    \n"
   ]
  },
  {
   "cell_type": "markdown",
   "id": "2922002a",
   "metadata": {},
   "source": [
    "Varying zenith angles"
   ]
  },
  {
   "cell_type": "code",
   "execution_count": 7,
   "id": "053d7a58",
   "metadata": {},
   "outputs": [
    {
     "data": {
      "application/vnd.jupyter.widget-view+json": {
       "model_id": "657c1d5482b741ecbb9670227de0ea83",
       "version_major": 2,
       "version_minor": 0
      },
      "text/plain": [
       "interactive(children=(Dropdown(description='Flavour in', index=1, options=(('Electron', 12), ('Muon', 14), ('T…"
      ]
     },
     "metadata": {},
     "output_type": "display_data"
    }
   ],
   "source": [
    "#Plot of oscillation probabilities against the cosine of the zenith angle\n",
    "\n",
    "num=1000\n",
    "\n",
    "zenith_angles = np.linspace(-1,-0.05,num=num)\n",
    "\n",
    "opts = dict(continuous_update=False)\n",
    "@iw.interact\n",
    "def show_pdf(flavour_in=iw.Dropdown(options=[(\"Electron\",12),(\"Muon\",14),(\"Tau\",16)],\n",
    "                                    description=\"Flavour in\",value=14),\n",
    "             flavour_out=iw.Dropdown(options=[(\"Electron\",12),(\"Muon\",14),(\"Tau\",16)],\n",
    "                                     description=\"Flavour out\",value=14),\n",
    "             CParity=iw.Dropdown(options=[(\"Particle\",1),(\"Antiparticle\",-1)],\n",
    "                                 description=\"C Parity\"),\n",
    "             E=iw.FloatLogSlider(value=5,base=10,min=0,max=2,\n",
    "                                 description=\"Energy\",step=0.1,**opts),\n",
    "             sinsqTh12=iw.FloatSlider(min=0.27,max=0.34,step=0.01,\n",
    "                                      description=\"$sin^2θ_{12}$\",value=0.304,**opts),\n",
    "             dM21sq=iw.FloatSlider(min=6.93,max=7.95,step=0.01,\n",
    "                                   description=\"$\\Delta m_{21}^2[10^{-5}]$\",value=7.42,**opts),\n",
    "             sinsqTh13=iw.FloatSlider(min=0.021,max=0.024,step=0.001,\n",
    "                                      description=\"$sin^2θ_{13}$\",value=0.02246,readout_format='.3f',**opts),\n",
    "             dM31sq=iw.FloatSlider(min=2.45,max=2.59,step=0.01,\n",
    "                                   description=\"$\\Delta m_{31}^2[10^{-3}]$\",value=2.51, **opts),\n",
    "             sinsqTh23=iw.FloatSlider(min=0.41,max=0.62,step=0.01,\n",
    "                                      description=\"$sin^2θ_{23}$\",value=0.45,**opts),\n",
    "             deltaCP=iw.FloatSlider(min=0,max=2,step=0.01,\n",
    "                                    description=\"$\\delta_{CP} / \\pi$\",value=1.28,**opts)):\n",
    "    \n",
    "    #Converting units to eV^2\n",
    "    dM21sq=dM21sq*10**-5\n",
    "    dM31sq=dM31sq*10**-3\n",
    "\n",
    "    Es = np.tile(E, num)\n",
    "    \n",
    "    #Set oscillation channel and parameters and perform interpolation\n",
    "    channel = jppy.oscprob.JOscChannel(flavour_in, flavour_out, CParity)\n",
    "    \n",
    "    parameters = jppy.oscprob.JOscParameters(dM21sq, dM31sq, deltaCP, sinsqTh12, sinsqTh13, sinsqTh23)\n",
    "    \n",
    "    probs = interpolator(parameters, channel, Es, zenith_angles)\n",
    "    \n",
    "    fig, ax = plt.subplots(figsize=(8,4))\n",
    "    ax.plot(zenith_angles, probs)\n",
    "    ax.set_ylim(0, 1.05)\n",
    "    plt.grid()\n",
    "    ax.set_xlabel('Cosine of zenith angle', fontsize=15)\n",
    "    ax.set_ylabel('Probability', fontsize=15)\n",
    "    "
   ]
  },
  {
   "cell_type": "code",
   "execution_count": 8,
   "id": "a3e803f1",
   "metadata": {},
   "outputs": [
    {
     "data": {
      "application/vnd.jupyter.widget-view+json": {
       "model_id": "5951ffcd9df348998343dd2e58a1280f",
       "version_major": 2,
       "version_minor": 0
      },
      "text/plain": [
       "interactive(children=(Dropdown(description='Flavour in', index=1, options=(('Electron', 12), ('Muon', 14), ('T…"
      ]
     },
     "metadata": {},
     "output_type": "display_data"
    }
   ],
   "source": [
    "#2D density plot\n",
    "\n",
    "num_E = 250\n",
    "num_angle = 250\n",
    "\n",
    "Es = np.logspace(0,2,num=num_E,base=10)\n",
    "angles = np.linspace(-1,-0.05,num=num_angle)\n",
    "\n",
    "Es_meshgrid, angles_meshgrid = np.meshgrid(Es, angles)\n",
    "\n",
    "opts = dict(continuous_update=False)\n",
    "@iw.interact\n",
    "def show_pdf(flavour_in=iw.Dropdown(options=[(\"Electron\",12),(\"Muon\",14),(\"Tau\",16)],\n",
    "                                    description=\"Flavour in\",value=14),\n",
    "             flavour_out=iw.Dropdown(options=[(\"Electron\",12),(\"Muon\",14),(\"Tau\",16)],\n",
    "                                     description=\"Flavour out\",value=14),\n",
    "             CParity=iw.Dropdown(options=[(\"Particle\",1),(\"Antiparticle\",-1)],\n",
    "                                 description=\"C Parity\"),\n",
    "             sinsqTh12=iw.FloatSlider(min=0.27,max=0.34,step=0.01,\n",
    "                                      description=\"$sin^2θ_{12}$\",value=0.304,**opts),\n",
    "             dM21sq=iw.FloatSlider(min=6.93,max=7.96,step=0.01,\n",
    "                                   description=\"$\\Delta m_{21}^2[10^{-5}]$\",value=7.42,**opts),\n",
    "             sinsqTh13=iw.FloatSlider(min=0.021,max=0.024,step=0.001,\n",
    "                                      description=\"$sin^2θ_{13}$\",value=0.02246,readout_format='.3f',**opts),\n",
    "             dM31sq=iw.FloatSlider(min=2.45,max=2.59,step=0.01,\n",
    "                                   description=\"$\\Delta m_{31}^2[10^{-3}]$\",value=2.51, **opts),\n",
    "             sinsqTh23=iw.FloatSlider(min=0.41,max=0.62,step=0.01,\n",
    "                                      description=\"$sin^2θ_{23}$\",value=0.45,**opts),\n",
    "             deltaCP=iw.FloatSlider(min=0,max=2,step=0.01,\n",
    "                                    description=\"$\\delta_{CP} / \\pi$\",value=1.28,**opts)):\n",
    "    \n",
    "    #Converting units to eV^2\n",
    "    dM21sq=dM21sq*10**-5\n",
    "    dM31sq=dM31sq*10**-3  \n",
    "    \n",
    "    parameters = jppy.oscprob.JOscParameters(sinsqTh12=sinsqTh12,\n",
    "                                             dM21sq=dM21sq,\n",
    "                                             sinsqTh13=sinsqTh13,\n",
    "                                             dM31sq=dM31sq,\n",
    "                                             sinsqTh23=sinsqTh23,\n",
    "                                             deltaCP=deltaCP)\n",
    "\n",
    "    channel = jppy.oscprob.JOscChannel(flavour_in, flavour_out, CParity)\n",
    "    \n",
    "    probs = interpolator(parameters, channel, Es_meshgrid.flatten(), angles_meshgrid.flatten())\n",
    "    probs_2D = np.reshape(probs, (num_angle,num_E))\n",
    "    \n",
    "    fig, ax = plt.subplots(figsize=(8,6))\n",
    "    pos=ax.imshow(probs_2D, cmap='PuBu',vmin=0,vmax=1, origin = 'lower',\n",
    "                  extent=(np.amin(Es), np.amax(Es), np.amin(angles), np.amax(angles)),aspect='auto')\n",
    "    plt.colorbar(pos,ax=ax)\n",
    "    ax.set_xlabel('E / GeV', fontsize=15)\n",
    "    ax.set_ylabel('Cosine of zenith angle', fontsize=15)\n",
    "    ticks = [1,50,100]\n",
    "    tick_labels = [\"1\",\"10\",\"100\"]\n",
    "    plt.xticks(ticks,labels=tick_labels)\n",
    "    \n",
    "    plt.show()\n",
    "\n",
    "    "
   ]
  },
  {
   "cell_type": "code",
   "execution_count": 9,
   "id": "e3b721f1",
   "metadata": {},
   "outputs": [],
   "source": [
    "baseline = interpolator.get_baseline_calculator()"
   ]
  },
  {
   "cell_type": "code",
   "execution_count": 10,
   "id": "2f5d67ce",
   "metadata": {},
   "outputs": [
    {
     "data": {
      "application/vnd.jupyter.widget-view+json": {
       "model_id": "a089d3c7e4084006a7659955b795002b",
       "version_major": 2,
       "version_minor": 0
      },
      "text/plain": [
       "interactive(children=(Dropdown(description='Flavour in', index=1, options=(('Electron', 12), ('Muon', 14), ('T…"
      ]
     },
     "metadata": {},
     "output_type": "display_data"
    }
   ],
   "source": [
    "#2D density plot\n",
    "\n",
    "num_L_E = 200\n",
    "num_angle = 200\n",
    "\n",
    "L_Es = np.linspace(500,10000,num=num_L_E)\n",
    "angles = np.linspace(-1,-0.05,num=num_angle)\n",
    "#angles=angles[::-1]\n",
    "\n",
    "Ls = np.zeros(num_angle)\n",
    "for i in range(0, num_angle):\n",
    "    L = baseline(angles[i])\n",
    "    Ls[i] = L\n",
    "\n",
    "L_Es = L_Es[::-1]\n",
    "\n",
    "L_E_meshgrid, L_meshgrid = np.meshgrid(L_Es, Ls)\n",
    "L_E_meshgrid, angles_meshgrid = np.meshgrid(L_Es, angles)\n",
    "Es_meshgrid = L_meshgrid/L_E_meshgrid\n",
    "\n",
    "opts = dict(continuous_update=False)\n",
    "@iw.interact\n",
    "def show_pdf(flavour_in=iw.Dropdown(options=[(\"Electron\",12),(\"Muon\",14),(\"Tau\",16)],\n",
    "                                    description=\"Flavour in\",value=14),\n",
    "             flavour_out=iw.Dropdown(options=[(\"Electron\",12),(\"Muon\",14),(\"Tau\",16)],\n",
    "                                     description=\"Flavour out\",value=14),\n",
    "             CParity=iw.Dropdown(options=[(\"Particle\",1),(\"Antiparticle\",-1)],\n",
    "                                 description=\"C Parity\"),\n",
    "             sinsqTh12=iw.FloatSlider(min=0.27,max=0.34,step=0.01,\n",
    "                                      description=\"$sin^2θ_{12}$\",value=0.304,**opts),\n",
    "             dM21sq=iw.FloatSlider(min=6.93,max=7.96,step=0.01,\n",
    "                                   description=\"$\\Delta m_{21}^2[10^{-5}]$\",value=7.42,**opts),\n",
    "             sinsqTh13=iw.FloatSlider(min=0.021,max=0.024,step=0.001,\n",
    "                                      description=\"$sin^2θ_{13}$\",value=0.02246,readout_format='.3f',**opts),\n",
    "             dM31sq=iw.FloatSlider(min=2.45,max=2.59,step=0.01,\n",
    "                                   description=\"$\\Delta m_{31}^2[10^{-3}]$\",value=2.51, **opts),\n",
    "             sinsqTh23=iw.FloatSlider(min=0.41,max=0.62,step=0.01,\n",
    "                                      description=\"$sin^2θ_{23}$\",value=0.45,**opts),\n",
    "             deltaCP=iw.FloatSlider(min=0,max=2,step=0.01,\n",
    "                                    description=\"$\\delta_{CP} / \\pi$\",value=1.28,**opts)):\n",
    "    \n",
    "    #Converting units to eV^2\n",
    "    dM21sq=dM21sq*10**-5\n",
    "    dM31sq=dM31sq*10**-3  \n",
    "    \n",
    "    parameters = jppy.oscprob.JOscParameters(sinsqTh12=sinsqTh12,\n",
    "                                             dM21sq=dM21sq,\n",
    "                                             sinsqTh13=sinsqTh13,\n",
    "                                             dM31sq=dM31sq,\n",
    "                                             sinsqTh23=sinsqTh23,\n",
    "                                             deltaCP=deltaCP)\n",
    "\n",
    "    channel = jppy.oscprob.JOscChannel(flavour_in, flavour_out, CParity)\n",
    "    \n",
    "    probs = interpolator(parameters, channel, Es_meshgrid.flatten(), angles_meshgrid.flatten())\n",
    "    probs_2D = np.reshape(probs, (num_angle,num_L_E))\n",
    "    probs_2D = probs_2D[:, ::-1]\n",
    "    \n",
    "    fig, ax = plt.subplots(figsize=(8,6))\n",
    "    pos=ax.imshow(probs_2D, cmap='PuBu',vmin=0,vmax=1, origin = 'lower',\n",
    "                  extent=(np.amin(L_Es), np.amax(L_Es), np.amin(angles), np.amax(angles)),aspect='auto')\n",
    "    plt.colorbar(pos,ax=ax)\n",
    "    ax.set_xlabel('L/E [km/GeV]', fontsize=15)\n",
    "    ax.set_ylabel('Cosine of zenith angle', fontsize=15)\n",
    "    \n",
    "    plt.show()"
   ]
  },
  {
   "cell_type": "code",
   "execution_count": null,
   "id": "926a92f8",
   "metadata": {},
   "outputs": [],
   "source": []
  }
 ],
 "metadata": {
  "kernelspec": {
   "display_name": "Python 3",
   "language": "python",
   "name": "python3"
  },
  "language_info": {
   "codemirror_mode": {
    "name": "ipython",
    "version": 3
   },
   "file_extension": ".py",
   "mimetype": "text/x-python",
   "name": "python",
   "nbconvert_exporter": "python",
   "pygments_lexer": "ipython3",
   "version": "3.6.8"
  }
 },
 "nbformat": 4,
 "nbformat_minor": 5
}
