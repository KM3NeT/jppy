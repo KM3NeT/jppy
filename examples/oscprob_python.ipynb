{
 "cells": [
  {
   "cell_type": "code",
   "execution_count": 1,
   "id": "df0497ff",
   "metadata": {},
   "outputs": [
    {
     "name": "stdout",
     "output_type": "stream",
     "text": [
      "jppy version: 3.4.1.dev38+g19af23d.d20221023\n"
     ]
    }
   ],
   "source": [
    "import os\n",
    "import ipywidgets as iw\n",
    "import matplotlib.pyplot as plt\n",
    "import numpy as np\n",
    "import jppy\n",
    "\n",
    "print(f\"jppy version: {jppy.version}\")"
   ]
  },
  {
   "cell_type": "code",
   "execution_count": 2,
   "id": "66947fea",
   "metadata": {},
   "outputs": [
    {
     "name": "stderr",
     "output_type": "stream",
     "text": [
      "loading oscillation probability table from file /home/yugen96/work/KM3NeT/software/Jpp/Jpp_dev/data//JOscProbTable.NO.dat... OK\n"
     ]
    }
   ],
   "source": [
    "#Reading the data\n",
    "\n",
    "input_file = os.path.expandvars(\"${JPP_DATA}/JOscProbTable.NO.dat\")\n",
    "interpolator = jppy.oscprob.JppyOscProbInterpolator(input_file)"
   ]
  },
  {
   "cell_type": "code",
   "execution_count": 9,
   "id": "9e442279",
   "metadata": {},
   "outputs": [
    {
     "name": "stdout",
     "output_type": "stream",
     "text": [
      "JFlavour_t.ELECTRON\n",
      "JChargeParity_t.PARTICLE\n"
     ]
    }
   ],
   "source": [
    "#Set the channel\n",
    "\n",
    "flavour1 = jppy.oscprob.JFlavour_t(12)\n",
    "flavour2 = jppy.oscprob.JFlavour_t(14)\n",
    "CParity = jppy.oscprob.JChargeParity_t(1)\n",
    "\n",
    "channel = jppy.oscprob.JOscChannel(flavour1, flavour2, CParity)\n",
    "print(jppy.oscprob.JFlavour_t.ELECTRON)\n",
    "\n",
    "print(channel.Cparity)\n",
    "\n",
    "xs = np.logspace(1, 5, num=50, base=10)"
   ]
  },
  {
   "cell_type": "code",
   "execution_count": 10,
   "id": "c52117ec",
   "metadata": {},
   "outputs": [
    {
     "name": "stdout",
     "output_type": "stream",
     "text": [
      "[0.00916337]\n"
     ]
    }
   ],
   "source": [
    "xs = np.linspace(10,1000,1000)\n",
    "#xs = np.logspace(1, 3, num=50, base=10)\n",
    "parameters = jppy.oscprob.JOscParameters(False)\n",
    "\n",
    "parameters.set(\"sinsqTh12\", 0.35,\n",
    "               \"sinsqTh13\", 0.025, \n",
    "               \"sinsqTh23\", 0.62)\n",
    "\n",
    "probs = interpolator(parameters,channel,[10],[-1])\n",
    "print(probs)"
   ]
  },
  {
   "cell_type": "code",
   "execution_count": 11,
   "id": "8ed821ca",
   "metadata": {},
   "outputs": [
    {
     "data": {
      "application/vnd.jupyter.widget-view+json": {
       "model_id": "d3d4d717a6964b5185fb6380c4cc8d37",
       "version_major": 2,
       "version_minor": 0
      },
      "text/plain": [
       "interactive(children=(Dropdown(description='flavour_in', options=(('Electron', 12), ('Muon', 14), ('Tau', 16))…"
      ]
     },
     "metadata": {},
     "output_type": "display_data"
    }
   ],
   "source": [
    "xs = np.linspace(10,1000,1000)\n",
    "\n",
    "opts = dict(continuous_update=False)\n",
    "@iw.interact\n",
    "def show_pdf(flavour_in=iw.Dropdown(options=[(\"Electron\",12),(\"Muon\",14),(\"Tau\",16)], value=12),\n",
    "             flavour_out=iw.Dropdown(options=[(\"Electron\",12),(\"Muon\",14),(\"Tau\",16)], value=14),\n",
    "             CParity=iw.Dropdown(options=[(\"Particle\",1),(\"Antiparticle\",-1)]),\n",
    "             sinsqTh12=iw.FloatSlider(min=0.2, max=0.35, step=0.01, value=0.304, **opts),\n",
    "             dM21sq=iw.FloatSlider(min=6.93e-5, max=7.96e-5, step=10e-7, value=7.42e-5,readout_format='.5f', **opts),\n",
    "             sinsqTh13=iw.FloatSlider(min=0.017, max=0.025, step=0.001, value=0.02246,readout_format='.3f', **opts),\n",
    "             dM31sq=iw.FloatSlider(min=0.00245,max=0.00269, step=0.00001, value=2.51e-3,readout_format='.4f', **opts),\n",
    "             sinsqTh23=iw.FloatSlider(min=0.38, max=0.62, step=0.01, value=0.45, **opts),\n",
    "             deltaCP=iw.FloatSlider(min=0, max=2, step=0.01, value=1.28, **opts)):\n",
    "    parameters = jppy.oscprob.JOscParameters(sinsqTh12=sinsqTh12,\n",
    "                                             dM21sq=dM21sq,\n",
    "                                             sinsqTh13=sinsqTh13,\n",
    "                                             dM31sq=dM31sq,\n",
    "                                             sinsqTh23=sinsqTh23,\n",
    "                                             deltaCP=deltaCP)\n",
    "    \n",
    "    channel = jppy.oscprob.JOscChannel(jppy.oscprob.JFlavour_t(flavour_in), \n",
    "                                       jppy.oscprob.JFlavour_t(flavour_out), \n",
    "                                       jppy.oscprob.JChargeParity_t(CParity))\n",
    "    \n",
    "    pdf = lambda E: interpolator(channel,[E],[1])\n",
    "    \n",
    "    ys = list(map(pdf, xs))\n",
    "    y_above = np.max(ys)*1.25\n",
    "    fig, ax = plt.subplots(figsize=(8,4))\n",
    "    ax.plot(xs, ys)\n",
    "    ax.set_xscale('log')\n",
    "    ax.set_ylim(0, 0.065)\n",
    "    #ax.set_ylim(0, 1.1)\n",
    "    plt.grid()\n",
    "    ax.set_xlabel('E / GeV', fontsize=15)\n",
    "    ax.set_ylabel('Probability', fontsize=15)"
   ]
  },
  {
   "cell_type": "markdown",
   "id": "8da9161d",
   "metadata": {},
   "source": [
    "Tests"
   ]
  },
  {
   "cell_type": "code",
   "execution_count": 3,
   "id": "eff09816",
   "metadata": {
    "scrolled": true
   },
   "outputs": [
    {
     "data": {
      "application/vnd.jupyter.widget-view+json": {
       "model_id": "5572aeec763046f8a292d18224dc21bc",
       "version_major": 2,
       "version_minor": 0
      },
      "text/plain": [
       "interactive(children=(Dropdown(description='flavour_in', index=1, options=(('Electron', 12), ('Muon', 14), ('T…"
      ]
     },
     "metadata": {},
     "output_type": "display_data"
    }
   ],
   "source": [
    "#Test if all the probilities add up to 1\n",
    "\n",
    "xs = np.linspace(10,1000,1000)\n",
    "\n",
    "opts = dict(continuous_update=False)\n",
    "@iw.interact\n",
    "def show_pdf(flavour_in=iw.Dropdown(options=[(\"Electron\",12),(\"Muon\",14),(\"Tau\",16)], value=14),\n",
    "             CParity=iw.Dropdown(options=[(\"Particle\",1),(\"Antiparticle\",-1)]),\n",
    "             sinsqTh12=iw.FloatSlider(min=0.2, max=0.35, step=0.01, value=0.304, **opts),\n",
    "             dM21sq=iw.FloatSlider(min=6.93e-5, max=7.96e-5, step=10e-7, value=7.42e-5,readout_format='.1e', **opts),\n",
    "             sinsqTh13=iw.FloatSlider(min=0.017, max=0.025, step=0.001, value=0.02246,readout_format='.3f', **opts),\n",
    "             dM31sq=iw.FloatSlider(min=0.00245,max=0.00269, step=0.00001, value=2.51e-3,readout_format='.4f', **opts),\n",
    "             sinsqTh23=iw.FloatSlider(min=0.38, max=0.62, step=0.01, value=0.45, **opts),\n",
    "             deltaCP=iw.FloatSlider(min=0, max=2, step=0.01, value=1.28, **opts)):\n",
    "    parameters = jppy.oscprob.JOscParameters(sinsqTh12=sinsqTh12,\n",
    "                                             dM21sq=dM21sq,\n",
    "                                             sinsqTh13=sinsqTh13,\n",
    "                                             dM31sq=dM31sq,\n",
    "                                             sinsqTh23=sinsqTh23,\n",
    "                                             deltaCP=deltaCP)\n",
    "    \n",
    "    interpolator = jppy.oscprob.JOscProbInterpolator8D(table, parameters)\n",
    "    channel = jppy.oscprob.JOscChannel(jppy.oscprob.JFlavour_t(flavour_in), \n",
    "                                       jppy.oscprob.JFlavour_t(12), \n",
    "                                       jppy.oscprob.JChargeParity_t(CParity))\n",
    "    \n",
    "    pdf1 = lambda E: interpolator(channel,[E],[1])\n",
    "    ys1 = list(map(pdf1, xs))\n",
    "    \n",
    "    interpolator = jppy.oscprob.JOscProbInterpolator8D(table, parameters)\n",
    "    channel = jppy.oscprob.JOscChannel(jppy.oscprob.JFlavour_t(flavour_in), \n",
    "                                       jppy.oscprob.JFlavour_t(14), \n",
    "                                       jppy.oscprob.JChargeParity_t(CParity))\n",
    "    \n",
    "    pdf2 = lambda E: interpolator(channel,[E],[1])\n",
    "    ys2 = list(map(pdf2, xs))\n",
    "    \n",
    "    channel = jppy.oscprob.JOscChannel(jppy.oscprob.JFlavour_t(flavour_in), \n",
    "                                       jppy.oscprob.JFlavour_t(16), \n",
    "                                       jppy.oscprob.JChargeParity_t(CParity))\n",
    "    \n",
    "    pdf3 = lambda E: interpolator(channel,[E],[1])\n",
    "    ys3 = list(map(pdf3, xs))\n",
    "    \n",
    "    ys_total = np.array(ys1)+np.array(ys2)+np.array(ys3)\n",
    "    \n",
    "    fig, ax = plt.subplots(figsize=(8,4))\n",
    "    ax.plot(xs, ys_total)\n",
    "    ax.set_xscale('log')\n",
    "    #ax.set_yscale('log')\n",
    "    ax.set_ylim(0, 1.1)\n",
    "    #ax.set_ylim(0, y_above)\n",
    "    plt.grid()\n",
    "    ax.set_xlabel('E / GeV', fontsize=15)\n",
    "    ax.set_ylabel('Probability', fontsize=15)"
   ]
  },
  {
   "cell_type": "code",
   "execution_count": 13,
   "id": "d8a39610",
   "metadata": {},
   "outputs": [
    {
     "data": {
      "application/vnd.jupyter.widget-view+json": {
       "model_id": "c162f1ad82054a51bf899ba21175b933",
       "version_major": 2,
       "version_minor": 0
      },
      "text/plain": [
       "interactive(children=(Dropdown(description='flavour_in', options=(('Electron', 12), ('Muon', 14), ('Tau', 16))…"
      ]
     },
     "metadata": {},
     "output_type": "display_data"
    },
    {
     "name": "stdout",
     "output_type": "stream",
     "text": [
      "Cparity=1\n",
      "in=12\n",
      "out=14\n",
      "\n"
     ]
    },
    {
     "data": {
      "application/vnd.jupyter.widget-view+json": {
       "model_id": "17418bc8597745df8bfa08915922548f",
       "version_major": 2,
       "version_minor": 0
      },
      "text/plain": [
       "interactive(children=(FloatSlider(value=0.304, continuous_update=False, description='sinsqTh12', max=0.35, min…"
      ]
     },
     "metadata": {},
     "output_type": "display_data"
    }
   ],
   "source": [
    "#Met goede y-as\n",
    "\n",
    "xs = np.linspace(10,1000,1000)\n",
    "\n",
    "opts = dict(continuous_update=False)\n",
    "@iw.interact\n",
    "def choose_channel(flavour_in=iw.Dropdown(options=[(\"Electron\",12),(\"Muon\",14),(\"Tau\",16)], value=12),\n",
    "                   flavour_out=iw.Dropdown(options=[(\"Electron\",12),(\"Muon\",14),(\"Tau\",16)], value=14),\n",
    "                   CParity=iw.Dropdown(options=[(\"Particle\",1),(\"Antiparticle\",-1)])):\n",
    "    channel = jppy.oscprob.JOscChannel(jppy.oscprob.JFlavour_t(flavour_in), \n",
    "                                       jppy.oscprob.JFlavour_t(flavour_out), \n",
    "                                       jppy.oscprob.JChargeParity_t(CParity))\n",
    "    \n",
    "print(channel)\n",
    "\n",
    "opts = dict(continuous_update=False)\n",
    "@iw.interact    \n",
    "def show_pdf(sinsqTh12=iw.FloatSlider(min=0.2, max=0.35, step=0.01, value=0.304, **opts),\n",
    "             dM21sq=iw.FloatSlider(min=6.93e-5, max=7.96e-5, step=10e-7, value=7.42e-5,readout_format='.5f', **opts),\n",
    "             sinsqTh13=iw.FloatSlider(min=0.017, max=0.025, step=0.001, value=0.02246,readout_format='.3f', **opts),\n",
    "             dM31sq=iw.FloatSlider(min=0.00245,max=0.00269, step=0.00001, value=2.51e-3,readout_format='.4f', **opts),\n",
    "             sinsqTh23=iw.FloatSlider(min=0.38, max=0.62, step=0.01, value=0.45, **opts),\n",
    "             deltaCP=iw.FloatSlider(min=0, max=2, step=0.01, value=1.28, **opts)):\n",
    "    parameters = jppy.oscprob.JOscParameters(sinsqTh12=sinsqTh12,\n",
    "                                             dM21sq=dM21sq,\n",
    "                                             sinsqTh13=sinsqTh13,\n",
    "                                             dM31sq=dM31sq,\n",
    "                                             sinsqTh23=sinsqTh23,\n",
    "                                             deltaCP=deltaCP)\n",
    "    interpolator = jppy.oscprob.JOscProbInterpolator8D(table, parameters)\n",
    "    \n",
    "    pdf = lambda E: interpolator.__call__(channel,E,1)\n",
    "    ys = list(map(pdf, xs))\n",
    "    y_above = np.max(ys)*1.25\n",
    "    fig, ax = plt.subplots(figsize=(8,4))\n",
    "    ax.plot(xs, ys)\n",
    "    ax.set_xscale('log')\n",
    "    #ax.set_yscale('log')\n",
    "    ax.set_ylim(0, 0.065)\n",
    "    #ax.set_ylim(0, y_above)\n",
    "    plt.grid()\n",
    "    ax.set_xlabel('E / GeV', fontsize=15)\n",
    "    ax.set_ylabel('Probability', fontsize=15)\n",
    "\n"
   ]
  },
  {
   "cell_type": "code",
   "execution_count": 40,
   "id": "110c92f3",
   "metadata": {},
   "outputs": [
    {
     "name": "stdout",
     "output_type": "stream",
     "text": [
      "[3, 6, 9, 12]\n"
     ]
    }
   ],
   "source": [
    "xs=[1,2,3,4]\n",
    "ys=[2,4,6,8]\n",
    "\n",
    "def func(a,b):\n",
    "    return a+b\n",
    "\n",
    "pdf = lambda a,b: func(a,b)\n",
    "zs = list(map(pdf,xs,ys))\n",
    "print(zs)"
   ]
  },
  {
   "cell_type": "code",
   "execution_count": null,
   "id": "7b58ec32",
   "metadata": {},
   "outputs": [],
   "source": []
  }
 ],
 "metadata": {
  "kernelspec": {
   "display_name": "Python 3",
   "language": "python",
   "name": "python3"
  },
  "language_info": {
   "codemirror_mode": {
    "name": "ipython",
    "version": 3
   },
   "file_extension": ".py",
   "mimetype": "text/x-python",
   "name": "python",
   "nbconvert_exporter": "python",
   "pygments_lexer": "ipython3",
   "version": "3.6.8"
  }
 },
 "nbformat": 4,
 "nbformat_minor": 5
}
